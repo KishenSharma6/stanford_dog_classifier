{
 "cells": [
  {
   "cell_type": "code",
   "execution_count": 1,
   "metadata": {},
   "outputs": [],
   "source": [
    "import os\n",
    "import torch, torchvision\n",
    "\n",
    "os.chdir(\"/home/kishen/documents/python_projects/stanford_dogs/\")\n",
    "from src.data import ImageDataset"
   ]
  },
  {
   "cell_type": "code",
   "execution_count": 2,
   "metadata": {},
   "outputs": [],
   "source": [
    "#read in image data\n",
    "path = \"/home/kishen/documents/python_projects/stanford_dogs/data/Images\"\n",
    "\n",
    "transform = torchvision.transforms.Compose([\n",
    "    torchvision.transforms.ToTensor(),\n",
    "    torchvision.transforms.Resize((224, 224)),\n",
    "    torchvision.transforms.RandomHorizontalFlip(p=.55)\n",
    "\n",
    "])\n",
    "\n",
    "dataset = ImageDataset(root_directory=path, transform=transform)"
   ]
  },
  {
   "cell_type": "code",
   "execution_count": 3,
   "metadata": {},
   "outputs": [],
   "source": [
    "#split data\n",
    "train_size, val_size = int(dataset.__len__() * .8) , int(dataset.__len__() * .2)\n",
    "\n",
    "ran_gen= torch.Generator().manual_seed(24)\n",
    "\n",
    "train_data, val_data = torch.utils.data.random_split(dataset, \n",
    "                                                    [train_size, val_size],\n",
    "                                                     generator= ran_gen)\n",
    "\n",
    "\n"
   ]
  },
  {
   "cell_type": "code",
   "execution_count": 5,
   "metadata": {},
   "outputs": [
    {
     "name": "stderr",
     "output_type": "stream",
     "text": [
      "/home/kishen/.virtualenvs/stanford_dogs/lib/python3.11/site-packages/torchvision/transforms/functional.py:1603: UserWarning: The default value of the antialias parameter of all the resizing transforms (Resize(), RandomResizedCrop(), etc.) will change from None to True in v0.17, in order to be consistent across the PIL and Tensor backends. To suppress this warning, directly pass antialias=True (recommended, future default), antialias=None (current default, which means False for Tensors and True for PIL), or antialias=False (only works on Tensors - PIL will still use antialiasing). This also applies if you are using the inference transforms from the models weights: update the call to weights.transforms(antialias=True).\n",
      "  warnings.warn(\n"
     ]
    },
    {
     "data": {
      "text/plain": [
       "tensor([0.4760, 0.4517, 0.3907])"
      ]
     },
     "metadata": {},
     "output_type": "display_data"
    },
    {
     "data": {
      "text/plain": [
       "tensor([0.2362, 0.2314, 0.2307])"
      ]
     },
     "metadata": {},
     "output_type": "display_data"
    }
   ],
   "source": [
    "#calculcate train data stats\n",
    "from src.modeling import calculate_channel_means, calculate_channel_sds\n",
    "\n",
    "display(calculate_channel_means(train_data, 'image'))\n",
    "#tensor([0.4760, 0.4517, 0.3907])\n",
    "\n",
    "display(calculate_channel_sds(train_data, 'image'))\n",
    "#tensor([0.2362, 0.2314, 0.2307])\n",
    "\n",
    "#normalize data"
   ]
  },
  {
   "cell_type": "code",
   "execution_count": null,
   "metadata": {},
   "outputs": [],
   "source": []
  }
 ],
 "metadata": {
  "kernelspec": {
   "display_name": "stanford-dogs",
   "language": "python",
   "name": "stanford-dogs"
  },
  "language_info": {
   "codemirror_mode": {
    "name": "ipython",
    "version": 3
   },
   "file_extension": ".py",
   "mimetype": "text/x-python",
   "name": "python",
   "nbconvert_exporter": "python",
   "pygments_lexer": "ipython3",
   "version": "3.11.3"
  },
  "orig_nbformat": 4
 },
 "nbformat": 4,
 "nbformat_minor": 2
}
