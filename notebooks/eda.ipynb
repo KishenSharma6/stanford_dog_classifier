{
 "cells": [
  {
   "cell_type": "code",
   "execution_count": 5,
   "metadata": {},
   "outputs": [],
   "source": [
    "import torch\n",
    "from torchvision import transforms\n",
    "from PIL import Image"
   ]
  },
  {
   "cell_type": "code",
   "execution_count": 3,
   "metadata": {},
   "outputs": [],
   "source": [
    "img = Image.open(\"/home/kishen/documents/python_projects/stanford_dogs/data/images/Images/n02085620-Chihuahua/n02085620_7.jpg\")\n",
    "\n",
    "\n",
    "\n"
   ]
  },
  {
   "cell_type": "code",
   "execution_count": 7,
   "metadata": {},
   "outputs": [
    {
     "data": {
      "text/plain": [
       "torch.Size([3, 188, 250])"
      ]
     },
     "execution_count": 7,
     "metadata": {},
     "output_type": "execute_result"
    }
   ],
   "source": [
    "transformer = transforms.ToTensor()\n",
    "\n",
    "transformer(img).shape"
   ]
  },
  {
   "cell_type": "code",
   "execution_count": 10,
   "metadata": {},
   "outputs": [],
   "source": [
    "path = \"/home/kishen/documents/python_projects/stanford_dogs/data/Images/\""
   ]
  },
  {
   "cell_type": "code",
   "execution_count": 13,
   "metadata": {},
   "outputs": [
    {
     "ename": "IndexError",
     "evalue": "tuple index out of range",
     "output_type": "error",
     "traceback": [
      "\u001b[0;31m---------------------------------------------------------------------------\u001b[0m",
      "\u001b[0;31mIndexError\u001b[0m                                Traceback (most recent call last)",
      "Cell \u001b[0;32mIn[13], line 5\u001b[0m\n\u001b[1;32m      3\u001b[0m test \u001b[39m=\u001b[39m []\n\u001b[1;32m      4\u001b[0m \u001b[39mfor\u001b[39;00m i \u001b[39min\u001b[39;00m \u001b[39mrange\u001b[39m(\u001b[39m5\u001b[39m):\n\u001b[0;32m----> 5\u001b[0m     test \u001b[39m=\u001b[39m [x[i] \u001b[39mfor\u001b[39;49;00m x \u001b[39min\u001b[39;49;00m os\u001b[39m.\u001b[39;49mwalk(path)]\n\u001b[1;32m      7\u001b[0m test\n",
      "Cell \u001b[0;32mIn[13], line 5\u001b[0m, in \u001b[0;36m<listcomp>\u001b[0;34m(.0)\u001b[0m\n\u001b[1;32m      3\u001b[0m test \u001b[39m=\u001b[39m []\n\u001b[1;32m      4\u001b[0m \u001b[39mfor\u001b[39;00m i \u001b[39min\u001b[39;00m \u001b[39mrange\u001b[39m(\u001b[39m5\u001b[39m):\n\u001b[0;32m----> 5\u001b[0m     test \u001b[39m=\u001b[39m [x[i] \u001b[39mfor\u001b[39;00m x \u001b[39min\u001b[39;00m os\u001b[39m.\u001b[39mwalk(path)]\n\u001b[1;32m      7\u001b[0m test\n",
      "\u001b[0;31mIndexError\u001b[0m: tuple index out of range"
     ]
    }
   ],
   "source": [
    "import os\n",
    "\n",
    "test = []\n",
    "for i in range(5):\n",
    "    test = [x[i] for x in os.walk(path)]\n",
    "\n",
    "test"
   ]
  },
  {
   "cell_type": "code",
   "execution_count": 9,
   "metadata": {},
   "outputs": [
    {
     "data": {
      "text/plain": [
       "['/home/kishen/documents/python_projects/stanford_dogs/data/Images/n02100583-vizsla/',\n",
       " '/home/kishen/documents/python_projects/stanford_dogs/data/Images/n02093754-border_terrier/',\n",
       " '/home/kishen/documents/python_projects/stanford_dogs/data/Images/n02096294-australian_terrier/',\n",
       " '/home/kishen/documents/python_projects/stanford_dogs/data/Images/n02112350-keeshond/',\n",
       " '/home/kishen/documents/python_projects/stanford_dogs/data/Images/n02108551-tibetan_mastiff/',\n",
       " '/home/kishen/documents/python_projects/stanford_dogs/data/Images/n02108422-bull_mastiff/',\n",
       " '/home/kishen/documents/python_projects/stanford_dogs/data/Images/n02096437-dandie_dinmont/',\n",
       " '/home/kishen/documents/python_projects/stanford_dogs/data/Images/n02093647-bedlington_terrier/',\n",
       " '/home/kishen/documents/python_projects/stanford_dogs/data/Images/n02110627-affenpinscher/',\n",
       " '/home/kishen/documents/python_projects/stanford_dogs/data/Images/n02109525-saint_bernard/',\n",
       " '/home/kishen/documents/python_projects/stanford_dogs/data/Images/n02088466-bloodhound/',\n",
       " '/home/kishen/documents/python_projects/stanford_dogs/data/Images/n02093991-irish_terrier/',\n",
       " '/home/kishen/documents/python_projects/stanford_dogs/data/Images/n02098286-west_highland_white_terrier/',\n",
       " '/home/kishen/documents/python_projects/stanford_dogs/data/Images/n02095570-lakeland_terrier/',\n",
       " '/home/kishen/documents/python_projects/stanford_dogs/data/Images/n02100877-irish_setter/',\n",
       " '/home/kishen/documents/python_projects/stanford_dogs/data/Images/n02109047-great_dane/',\n",
       " '/home/kishen/documents/python_projects/stanford_dogs/data/Images/n02093428-american_staffordshire_terrier/',\n",
       " '/home/kishen/documents/python_projects/stanford_dogs/data/Images/n02113023-pembroke/',\n",
       " '/home/kishen/documents/python_projects/stanford_dogs/data/Images/n02099429-curly-coated_retriever/',\n",
       " '/home/kishen/documents/python_projects/stanford_dogs/data/Images/n02098105-soft-coated_wheaten_terrier/',\n",
       " '/home/kishen/documents/python_projects/stanford_dogs/data/Images/n02107908-appenzeller/',\n",
       " '/home/kishen/documents/python_projects/stanford_dogs/data/Images/n02111129-leonberg/',\n",
       " '/home/kishen/documents/python_projects/stanford_dogs/data/Images/n02110185-siberian_husky/',\n",
       " '/home/kishen/documents/python_projects/stanford_dogs/data/Images/n02089973-english_foxhound/',\n",
       " '/home/kishen/documents/python_projects/stanford_dogs/data/Images/n02091831-saluki/',\n",
       " '/home/kishen/documents/python_projects/stanford_dogs/data/Images/n02112137-chow/',\n",
       " '/home/kishen/documents/python_projects/stanford_dogs/data/Images/n02113712-miniature_poodle/',\n",
       " '/home/kishen/documents/python_projects/stanford_dogs/data/Images/n02105855-shetland_sheepdog/',\n",
       " '/home/kishen/documents/python_projects/stanford_dogs/data/Images/n02102318-cocker_spaniel/',\n",
       " '/home/kishen/documents/python_projects/stanford_dogs/data/Images/n02106166-border_collie/',\n",
       " '/home/kishen/documents/python_projects/stanford_dogs/data/Images/n02091134-whippet/',\n",
       " '/home/kishen/documents/python_projects/stanford_dogs/data/Images/n02105056-groenendael/',\n",
       " '/home/kishen/documents/python_projects/stanford_dogs/data/Images/n02111500-great_pyrenees/',\n",
       " '/home/kishen/documents/python_projects/stanford_dogs/data/Images/n02098413-lhasa/',\n",
       " '/home/kishen/documents/python_projects/stanford_dogs/data/Images/n02106382-bouvier_des_flandres/',\n",
       " '/home/kishen/documents/python_projects/stanford_dogs/data/Images/n02091032-italian_greyhound/',\n",
       " '/home/kishen/documents/python_projects/stanford_dogs/data/Images/n02093859-kerry_blue_terrier/',\n",
       " '/home/kishen/documents/python_projects/stanford_dogs/data/Images/n02096585-boston_bull/',\n",
       " '/home/kishen/documents/python_projects/stanford_dogs/data/Images/n02092339-weimaraner/',\n",
       " '/home/kishen/documents/python_projects/stanford_dogs/data/Images/n02099267-flat-coated_retriever/',\n",
       " '/home/kishen/documents/python_projects/stanford_dogs/data/Images/n02112018-pomeranian/',\n",
       " '/home/kishen/documents/python_projects/stanford_dogs/data/Images/n02097047-miniature_schnauzer/',\n",
       " '/home/kishen/documents/python_projects/stanford_dogs/data/Images/n02094114-norfolk_terrier/',\n",
       " '/home/kishen/documents/python_projects/stanford_dogs/data/Images/n02113978-mexican_hairless/',\n",
       " '/home/kishen/documents/python_projects/stanford_dogs/data/Images/n02085782-japanese_spaniel/',\n",
       " '/home/kishen/documents/python_projects/stanford_dogs/data/Images/n02111277-newfoundland/',\n",
       " '/home/kishen/documents/python_projects/stanford_dogs/data/Images/n02105505-komondor/',\n",
       " '/home/kishen/documents/python_projects/stanford_dogs/data/Images/n02105162-malinois/',\n",
       " '/home/kishen/documents/python_projects/stanford_dogs/data/Images/n02090379-redbone/',\n",
       " '/home/kishen/documents/python_projects/stanford_dogs/data/Images/n02109961-eskimo_dog/',\n",
       " '/home/kishen/documents/python_projects/stanford_dogs/data/Images/n02110063-malamute/',\n",
       " '/home/kishen/documents/python_projects/stanford_dogs/data/Images/n02091635-otterhound/',\n",
       " '/home/kishen/documents/python_projects/stanford_dogs/data/Images/n02110958-pug/',\n",
       " '/home/kishen/documents/python_projects/stanford_dogs/data/Images/n02099712-labrador_retriever/',\n",
       " '/home/kishen/documents/python_projects/stanford_dogs/data/Images/n02105251-briard/',\n",
       " '/home/kishen/documents/python_projects/stanford_dogs/data/Images/n02112706-brabancon_griffon/',\n",
       " '/home/kishen/documents/python_projects/stanford_dogs/data/Images/n02102177-welsh_springer_spaniel/',\n",
       " '/home/kishen/documents/python_projects/stanford_dogs/data/Images/n02085620-chihuahua/',\n",
       " '/home/kishen/documents/python_projects/stanford_dogs/data/Images/n02088632-bluetick/',\n",
       " '/home/kishen/documents/python_projects/stanford_dogs/data/Images/n02111889-samoyed/',\n",
       " '/home/kishen/documents/python_projects/stanford_dogs/data/Images/n02099849-chesapeake_bay_retriever/',\n",
       " '/home/kishen/documents/python_projects/stanford_dogs/data/Images/n02110806-basenji/',\n",
       " '/home/kishen/documents/python_projects/stanford_dogs/data/Images/n02089867-walker_hound/',\n",
       " '/home/kishen/documents/python_projects/stanford_dogs/data/Images/n02108089-boxer/',\n",
       " '/home/kishen/documents/python_projects/stanford_dogs/data/Images/n02108000-entlebucher/',\n",
       " '/home/kishen/documents/python_projects/stanford_dogs/data/Images/n02097209-standard_schnauzer/',\n",
       " '/home/kishen/documents/python_projects/stanford_dogs/data/Images/n02106550-rottweiler/',\n",
       " '/home/kishen/documents/python_projects/stanford_dogs/data/Images/n02093256-staffordshire_bullterrier/',\n",
       " '/home/kishen/documents/python_projects/stanford_dogs/data/Images/n02086079-pekinese/',\n",
       " '/home/kishen/documents/python_projects/stanford_dogs/data/Images/n02099601-golden_retriever/',\n",
       " '/home/kishen/documents/python_projects/stanford_dogs/data/Images/n02086240-shih-tzu/',\n",
       " '/home/kishen/documents/python_projects/stanford_dogs/data/Images/n02100735-english_setter/',\n",
       " '/home/kishen/documents/python_projects/stanford_dogs/data/Images/n02088238-basset/',\n",
       " '/home/kishen/documents/python_projects/stanford_dogs/data/Images/n02105641-old_english_sheepdog/',\n",
       " '/home/kishen/documents/python_projects/stanford_dogs/data/Images/n02094258-norwich_terrier/',\n",
       " '/home/kishen/documents/python_projects/stanford_dogs/data/Images/n02088364-beagle/',\n",
       " '/home/kishen/documents/python_projects/stanford_dogs/data/Images/n02107683-bernese_mountain_dog/',\n",
       " '/home/kishen/documents/python_projects/stanford_dogs/data/Images/n02101388-brittany_spaniel/',\n",
       " '/home/kishen/documents/python_projects/stanford_dogs/data/Images/n02107142-doberman/',\n",
       " '/home/kishen/documents/python_projects/stanford_dogs/data/Images/n02101006-gordon_setter/',\n",
       " '/home/kishen/documents/python_projects/stanford_dogs/data/Images/n02107574-greater_swiss_mountain_dog/',\n",
       " '/home/kishen/documents/python_projects/stanford_dogs/data/Images/n02089078-black-and-tan_coonhound/',\n",
       " '/home/kishen/documents/python_projects/stanford_dogs/data/Images/n02097658-silky_terrier/',\n",
       " '/home/kishen/documents/python_projects/stanford_dogs/data/Images/n02097298-scotch_terrier/',\n",
       " '/home/kishen/documents/python_projects/stanford_dogs/data/Images/n02116738-african_hunting_dog/',\n",
       " '/home/kishen/documents/python_projects/stanford_dogs/data/Images/n02095889-sealyham_terrier/',\n",
       " '/home/kishen/documents/python_projects/stanford_dogs/data/Images/n02096177-cairn/',\n",
       " '/home/kishen/documents/python_projects/stanford_dogs/data/Images/n02091244-ibizan_hound/',\n",
       " '/home/kishen/documents/python_projects/stanford_dogs/data/Images/n02085936-maltese_dog/',\n",
       " '/home/kishen/documents/python_projects/stanford_dogs/data/Images/n02106662-german_shepherd/',\n",
       " '/home/kishen/documents/python_projects/stanford_dogs/data/Images/n02088094-afghan_hound/',\n",
       " '/home/kishen/documents/python_projects/stanford_dogs/data/Images/n02113624-toy_poodle/',\n",
       " '/home/kishen/documents/python_projects/stanford_dogs/data/Images/n02102040-english_springer/',\n",
       " '/home/kishen/documents/python_projects/stanford_dogs/data/Images/n02102480-sussex_spaniel/',\n",
       " '/home/kishen/documents/python_projects/stanford_dogs/data/Images/n02097474-tibetan_terrier/',\n",
       " '/home/kishen/documents/python_projects/stanford_dogs/data/Images/n02090721-irish_wolfhound/',\n",
       " '/home/kishen/documents/python_projects/stanford_dogs/data/Images/n02113186-cardigan/',\n",
       " '/home/kishen/documents/python_projects/stanford_dogs/data/Images/n02104029-kuvasz/',\n",
       " '/home/kishen/documents/python_projects/stanford_dogs/data/Images/n02086910-papillon/',\n",
       " '/home/kishen/documents/python_projects/stanford_dogs/data/Images/n02096051-airedale/',\n",
       " '/home/kishen/documents/python_projects/stanford_dogs/data/Images/n02094433-yorkshire_terrier/',\n",
       " '/home/kishen/documents/python_projects/stanford_dogs/data/Images/n02104365-schipperke/',\n",
       " '/home/kishen/documents/python_projects/stanford_dogs/data/Images/n02087394-rhodesian_ridgeback/',\n",
       " '/home/kishen/documents/python_projects/stanford_dogs/data/Images/n02115641-dingo/',\n",
       " '/home/kishen/documents/python_projects/stanford_dogs/data/Images/n02091467-norwegian_elkhound/',\n",
       " '/home/kishen/documents/python_projects/stanford_dogs/data/Images/n02115913-dhole/',\n",
       " '/home/kishen/documents/python_projects/stanford_dogs/data/Images/n02087046-toy_terrier/',\n",
       " '/home/kishen/documents/python_projects/stanford_dogs/data/Images/n02106030-collie/',\n",
       " '/home/kishen/documents/python_projects/stanford_dogs/data/Images/n02105412-kelpie/',\n",
       " '/home/kishen/documents/python_projects/stanford_dogs/data/Images/n02092002-scottish_deerhound/',\n",
       " '/home/kishen/documents/python_projects/stanford_dogs/data/Images/n02107312-miniature_pinscher/',\n",
       " '/home/kishen/documents/python_projects/stanford_dogs/data/Images/n02090622-borzoi/',\n",
       " '/home/kishen/documents/python_projects/stanford_dogs/data/Images/n02100236-german_short-haired_pointer/',\n",
       " '/home/kishen/documents/python_projects/stanford_dogs/data/Images/n02095314-wire-haired_fox_terrier/',\n",
       " '/home/kishen/documents/python_projects/stanford_dogs/data/Images/n02113799-standard_poodle/',\n",
       " '/home/kishen/documents/python_projects/stanford_dogs/data/Images/n02097130-giant_schnauzer/',\n",
       " '/home/kishen/documents/python_projects/stanford_dogs/data/Images/n02108915-french_bulldog/',\n",
       " '/home/kishen/documents/python_projects/stanford_dogs/data/Images/n02102973-irish_water_spaniel/',\n",
       " '/home/kishen/documents/python_projects/stanford_dogs/data/Images/n02101556-clumber/',\n",
       " '/home/kishen/documents/python_projects/stanford_dogs/data/Images/n02086646-blenheim_spaniel/']"
      ]
     },
     "execution_count": 9,
     "metadata": {},
     "output_type": "execute_result"
    }
   ],
   "source": [
    "#get labels\n",
    "from glob import glob\n",
    "glob(\"/home/kishen/documents/python_projects/stanford_dogs/data/Images/*/\", recursive = True)\n",
    "#https://stackoverflow.com/questions/51906144/pytorch-image-label\n"
   ]
  },
  {
   "cell_type": "code",
   "execution_count": null,
   "metadata": {},
   "outputs": [],
   "source": []
  },
  {
   "cell_type": "code",
   "execution_count": null,
   "metadata": {},
   "outputs": [],
   "source": []
  }
 ],
 "metadata": {
  "kernelspec": {
   "display_name": "stanford-dogs",
   "language": "python",
   "name": "stanford-dogs"
  },
  "language_info": {
   "codemirror_mode": {
    "name": "ipython",
    "version": 3
   },
   "file_extension": ".py",
   "mimetype": "text/x-python",
   "name": "python",
   "nbconvert_exporter": "python",
   "pygments_lexer": "ipython3",
   "version": "3.11.3"
  },
  "orig_nbformat": 4
 },
 "nbformat": 4,
 "nbformat_minor": 2
}
